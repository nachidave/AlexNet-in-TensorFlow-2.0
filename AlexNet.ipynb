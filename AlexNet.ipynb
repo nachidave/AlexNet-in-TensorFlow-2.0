{
 "cells": [
  {
   "cell_type": "code",
   "execution_count": 2,
   "metadata": {},
   "outputs": [
    {
     "name": "stderr",
     "output_type": "stream",
     "text": [
      "In C:\\Users\\nachi.DESKTOP-NT2DQ0M\\Anaconda3\\lib\\site-packages\\matplotlib\\mpl-data\\stylelib\\_classic_test.mplstyle: \n",
      "The text.latex.unicode rcparam was deprecated in Matplotlib 3.0 and will be removed in 3.2.\n",
      "In C:\\Users\\nachi.DESKTOP-NT2DQ0M\\Anaconda3\\lib\\site-packages\\matplotlib\\mpl-data\\stylelib\\_classic_test.mplstyle: \n",
      "The savefig.frameon rcparam was deprecated in Matplotlib 3.1 and will be removed in 3.3.\n",
      "In C:\\Users\\nachi.DESKTOP-NT2DQ0M\\Anaconda3\\lib\\site-packages\\matplotlib\\mpl-data\\stylelib\\_classic_test.mplstyle: \n",
      "The pgf.debug rcparam was deprecated in Matplotlib 3.0 and will be removed in 3.2.\n",
      "In C:\\Users\\nachi.DESKTOP-NT2DQ0M\\Anaconda3\\lib\\site-packages\\matplotlib\\mpl-data\\stylelib\\_classic_test.mplstyle: \n",
      "The verbose.level rcparam was deprecated in Matplotlib 3.1 and will be removed in 3.3.\n",
      "In C:\\Users\\nachi.DESKTOP-NT2DQ0M\\Anaconda3\\lib\\site-packages\\matplotlib\\mpl-data\\stylelib\\_classic_test.mplstyle: \n",
      "The verbose.fileo rcparam was deprecated in Matplotlib 3.1 and will be removed in 3.3.\n"
     ]
    }
   ],
   "source": [
    "import tensorflow as tf\n",
    "from tensorflow import keras\n",
    "import matplotlib.image as img\n",
    "from os import listdir\n",
    "from matplotlib import pyplot\n",
    "from sklearn.model_selection import train_test_split"
   ]
  },
  {
   "cell_type": "markdown",
   "metadata": {},
   "source": [
    "# Initiating and Compiling the Model (AlexNet)"
   ]
  },
  {
   "cell_type": "code",
   "execution_count": 3,
   "metadata": {},
   "outputs": [],
   "source": [
    "model=tf.keras.models.Sequential([\n",
    "    tf.keras.layers.Conv2D(96,(11,11),strides=4,activation='relu',input_shape=(227,227,3)),\n",
    "    tf.keras.layers.MaxPooling2D((3,3),strides=2),\n",
    "    tf.keras.layers.Conv2D(256,(5,5),padding='same',activation='relu'),\n",
    "    tf.keras.layers.MaxPooling2D((3,3),strides=2),\n",
    "    tf.keras.layers.Conv2D(384,(3,3),padding='same',activation='relu'),\n",
    "    tf.keras.layers.Conv2D(256,(3,3),padding='same',activation='relu'),\n",
    "    tf.keras.layers.MaxPooling2D((3,3),strides=2),\n",
    "    tf.keras.layers.Flatten(),\n",
    "    tf.keras.layers.Dense(9216,activation='relu'),\n",
    "    tf.keras.layers.Dense(4096,activation='relu'),\n",
    "    tf.keras.layers.Dense(4096,activation='relu'),\n",
    "    tf.keras.layers.Dense(3,activation='softmax')\n",
    "])"
   ]
  },
  {
   "cell_type": "code",
   "execution_count": 4,
   "metadata": {},
   "outputs": [],
   "source": [
    "model.compile(loss='sparse_categorical_crossentropy',optimizer='Adam',metrics=['accuracy'])"
   ]
  },
  {
   "cell_type": "markdown",
   "metadata": {},
   "source": [
    "# Load the images"
   ]
  },
  {
   "cell_type": "code",
   "execution_count": 5,
   "metadata": {},
   "outputs": [],
   "source": [
    "#Load Data\n",
    "dog_img=[]\n",
    "cat_img=[]\n",
    "dog_add='address'\n",
    "cat_add='address'\n",
    "add=[dog_add,cat_add]\n",
    "for i in add:\n",
    "    for filename in listdir(i):\n",
    "        image_data=img.imread(i + '/' + filename)\n",
    "        if i==dog_add:\n",
    "            dog_img.append(image_data)\n",
    "        else:\n",
    "            cat_img.append(image_data)\n",
    "img_labels=[0]*len(dog_img)+[1]*len(cat_img)\n",
    "all_img=dog_img + cat_img\n",
    "labels={0:\"Dog\" , 1:\"Cat\"}"
   ]
  },
  {
   "cell_type": "code",
   "execution_count": 26,
   "metadata": {},
   "outputs": [],
   "source": [
    "from PIL import Image\n",
    "all_img_1=[]\n",
    "size=(0,0,227,227)\n",
    "for f in range(len(all_img)):\n",
    "    a=Image.fromarray(all_img[f])\n",
    "    b=a.crop(size)\n",
    "    all_img_1.append(b)\n",
    "\n",
    "import numpy as np\n",
    "data=[]\n",
    "for i in range(len(all_img_1)):\n",
    "    d=np.array(all_img_1[i])\n",
    "    data.append(d)"
   ]
  },
  {
   "cell_type": "markdown",
   "metadata": {},
   "source": [
    "# Split the images into training and test set"
   ]
  },
  {
   "cell_type": "code",
   "execution_count": 6,
   "metadata": {},
   "outputs": [],
   "source": [
    "X_train,X_test,y_train,y_test=train_test_split(all_img[:4000],img_labels[:4000],test_size=0.5)"
   ]
  },
  {
   "cell_type": "markdown",
   "metadata": {},
   "source": [
    "# Converting train and test set into numpy array"
   ]
  },
  {
   "cell_type": "code",
   "execution_count": 29,
   "metadata": {},
   "outputs": [
    {
     "data": {
      "text/plain": [
       "(2000, 227, 227, 3)"
      ]
     },
     "execution_count": 29,
     "metadata": {},
     "output_type": "execute_result"
    }
   ],
   "source": [
    "import numpy as np\n",
    "len(X_train)\n",
    "X_train = np.array(X_train)\n",
    "y_train = np.array(y_train)\n",
    "X_test=np.array(X_test)\n",
    "y_test=np.array(y_test)"
   ]
  },
  {
   "cell_type": "markdown",
   "metadata": {},
   "source": [
    "# Saving the model "
   ]
  },
  {
   "cell_type": "code",
   "execution_count": 30,
   "metadata": {},
   "outputs": [],
   "source": [
    "# latest model will be saved after each epoch when training\n",
    "\n",
    "import os\n",
    "\n",
    "model_path='address where model is to be saved'\n",
    "\n",
    "model_dir=os.path.dirname(model_path)\n",
    "\n",
    "model_callback=tf.keras.callbacks.ModelCheckpoint(model_path,save_weights_only=True,verbose=1)"
   ]
  },
  {
   "cell_type": "markdown",
   "metadata": {},
   "source": [
    "# Training the model"
   ]
  },
  {
   "cell_type": "code",
   "execution_count": null,
   "metadata": {},
   "outputs": [
    {
     "name": "stdout",
     "output_type": "stream",
     "text": [
      "Train on 1500 samples, validate on 500 samples\n",
      "Epoch 1/200\n",
      "1400/1500 [===========================>..] - ETA: 4s - loss: 0.9243 - accuracy: 0.4743\n",
      "Epoch 00001: saving model to D:\\Project\\My_Code\\AlexNet\n",
      "1500/1500 [==============================] - 95s 63ms/sample - loss: 0.9198 - accuracy: 0.4713 - val_loss: 0.9014 - val_accuracy: 0.4260\n",
      "Epoch 2/200\n",
      "1400/1500 [===========================>..] - ETA: 4s - loss: 0.9207 - accuracy: 0.4986\n",
      "Epoch 00002: saving model to D:\\Project\\My_Code\\AlexNet\n",
      "1500/1500 [==============================] - 94s 63ms/sample - loss: 0.9208 - accuracy: 0.4960 - val_loss: 0.8952 - val_accuracy: 0.5140\n",
      "Epoch 3/200\n",
      "1400/1500 [===========================>..] - ETA: 4s - loss: 0.9213 - accuracy: 0.5043\n",
      "Epoch 00003: saving model to D:\\Project\\My_Code\\AlexNet\n",
      "1500/1500 [==============================] - 95s 63ms/sample - loss: 0.9222 - accuracy: 0.5027 - val_loss: 0.8923 - val_accuracy: 0.5140\n",
      "Epoch 4/200\n",
      "1400/1500 [===========================>..] - ETA: 4s - loss: 0.9372 - accuracy: 0.4586\n",
      "Epoch 00004: saving model to D:\\Project\\My_Code\\AlexNet\n",
      "1500/1500 [==============================] - 94s 62ms/sample - loss: 0.9392 - accuracy: 0.4533 - val_loss: 0.9207 - val_accuracy: 0.4160\n",
      "Epoch 5/200\n",
      "1400/1500 [===========================>..] - ETA: 4s - loss: 0.9205 - accuracy: 0.4929\n",
      "Epoch 00005: saving model to D:\\Project\\My_Code\\AlexNet\n",
      "1500/1500 [==============================] - 95s 63ms/sample - loss: 0.9210 - accuracy: 0.4907 - val_loss: 0.8970 - val_accuracy: 0.5140\n",
      "Epoch 6/200\n",
      "1400/1500 [===========================>..] - ETA: 4s - loss: 0.9175 - accuracy: 0.5050\n",
      "Epoch 00006: saving model to D:\\Project\\My_Code\\AlexNet\n",
      "1500/1500 [==============================] - 93s 62ms/sample - loss: 0.9250 - accuracy: 0.5007 - val_loss: 0.8954 - val_accuracy: 0.5140\n",
      "Epoch 7/200\n",
      "1400/1500 [===========================>..] - ETA: 4s - loss: 0.9211 - accuracy: 0.5014\n",
      "Epoch 00007: saving model to D:\\Project\\My_Code\\AlexNet\n",
      "1500/1500 [==============================] - 90s 60ms/sample - loss: 0.9208 - accuracy: 0.5007 - val_loss: 0.8951 - val_accuracy: 0.5140\n",
      "Epoch 8/200\n",
      "1400/1500 [===========================>..] - ETA: 4s - loss: 0.9227 - accuracy: 0.5007\n",
      "Epoch 00008: saving model to D:\\Project\\My_Code\\AlexNet\n",
      "1500/1500 [==============================] - 94s 63ms/sample - loss: 0.9181 - accuracy: 0.5007 - val_loss: 0.8981 - val_accuracy: 0.5140\n",
      "Epoch 9/200\n",
      "1400/1500 [===========================>..] - ETA: 4s - loss: 0.9202 - accuracy: 0.5000\n",
      "Epoch 00009: saving model to D:\\Project\\My_Code\\AlexNet\n",
      "1500/1500 [==============================] - 96s 64ms/sample - loss: 0.9175 - accuracy: 0.5007 - val_loss: 0.8946 - val_accuracy: 0.5140\n",
      "Epoch 10/200\n",
      "1400/1500 [===========================>..] - ETA: 4s - loss: 0.9192 - accuracy: 0.4993\n",
      "Epoch 00010: saving model to D:\\Project\\My_Code\\AlexNet\n",
      "1500/1500 [==============================] - 96s 64ms/sample - loss: 0.9175 - accuracy: 0.5007 - val_loss: 0.8941 - val_accuracy: 0.5140\n",
      "Epoch 11/200\n",
      "1400/1500 [===========================>..] - ETA: 4s - loss: 0.9213 - accuracy: 0.5000\n",
      "Epoch 00011: saving model to D:\\Project\\My_Code\\AlexNet\n",
      "1500/1500 [==============================] - 95s 63ms/sample - loss: 0.9172 - accuracy: 0.5007 - val_loss: 0.9004 - val_accuracy: 0.5140\n",
      "Epoch 12/200\n",
      "1400/1500 [===========================>..] - ETA: 4s - loss: 0.9196 - accuracy: 0.4986\n",
      "Epoch 00012: saving model to D:\\Project\\My_Code\\AlexNet\n",
      "1500/1500 [==============================] - 94s 63ms/sample - loss: 0.9165 - accuracy: 0.5007 - val_loss: 0.8931 - val_accuracy: 0.5140\n",
      "Epoch 13/200\n",
      "1400/1500 [===========================>..] - ETA: 4s - loss: 0.9177 - accuracy: 0.5021\n",
      "Epoch 00013: saving model to D:\\Project\\My_Code\\AlexNet\n",
      "1500/1500 [==============================] - 95s 63ms/sample - loss: 0.9166 - accuracy: 0.5007 - val_loss: 0.8963 - val_accuracy: 0.5140\n",
      "Epoch 14/200\n",
      "1400/1500 [===========================>..] - ETA: 4s - loss: 0.9158 - accuracy: 0.5007\n",
      "Epoch 00014: saving model to D:\\Project\\My_Code\\AlexNet\n",
      "1500/1500 [==============================] - 94s 63ms/sample - loss: 0.9157 - accuracy: 0.5007 - val_loss: 0.8934 - val_accuracy: 0.5140\n",
      "Epoch 15/200\n",
      "1400/1500 [===========================>..] - ETA: 4s - loss: 0.9148 - accuracy: 0.5036\n",
      "Epoch 00015: saving model to D:\\Project\\My_Code\\AlexNet\n",
      "1500/1500 [==============================] - 95s 63ms/sample - loss: 0.9163 - accuracy: 0.5007 - val_loss: 0.8938 - val_accuracy: 0.5140\n",
      "Epoch 16/200\n",
      "1400/1500 [===========================>..] - ETA: 4s - loss: 0.9102 - accuracy: 0.5064\n",
      "Epoch 00016: saving model to D:\\Project\\My_Code\\AlexNet\n",
      "1500/1500 [==============================] - 94s 63ms/sample - loss: 0.9171 - accuracy: 0.5007 - val_loss: 0.8943 - val_accuracy: 0.5140\n",
      "Epoch 17/200\n",
      "1400/1500 [===========================>..] - ETA: 4s - loss: 0.9152 - accuracy: 0.5029\n",
      "Epoch 00017: saving model to D:\\Project\\My_Code\\AlexNet\n",
      "1500/1500 [==============================] - 94s 62ms/sample - loss: 0.9166 - accuracy: 0.5007 - val_loss: 0.8936 - val_accuracy: 0.5140\n",
      "Epoch 18/200\n",
      "1400/1500 [===========================>..] - ETA: 4s - loss: 0.9145 - accuracy: 0.4979\n",
      "Epoch 00018: saving model to D:\\Project\\My_Code\\AlexNet\n",
      "1500/1500 [==============================] - 95s 63ms/sample - loss: 0.9175 - accuracy: 0.5007 - val_loss: 0.8935 - val_accuracy: 0.5140\n",
      "Epoch 19/200\n",
      "1400/1500 [===========================>..] - ETA: 4s - loss: 0.9111 - accuracy: 0.5007\n",
      "Epoch 00019: saving model to D:\\Project\\My_Code\\AlexNet\n",
      "1500/1500 [==============================] - 95s 63ms/sample - loss: 0.9156 - accuracy: 0.5007 - val_loss: 0.8954 - val_accuracy: 0.5140\n",
      "Epoch 20/200\n",
      "1400/1500 [===========================>..] - ETA: 4s - loss: 0.9211 - accuracy: 0.4986\n",
      "Epoch 00020: saving model to D:\\Project\\My_Code\\AlexNet\n",
      "1500/1500 [==============================] - 95s 63ms/sample - loss: 0.9180 - accuracy: 0.5007 - val_loss: 0.8940 - val_accuracy: 0.5140\n",
      "Epoch 21/200\n",
      "1400/1500 [===========================>..] - ETA: 4s - loss: 0.9188 - accuracy: 0.4993\n",
      "Epoch 00021: saving model to D:\\Project\\My_Code\\AlexNet\n",
      "1500/1500 [==============================] - 94s 62ms/sample - loss: 0.9161 - accuracy: 0.5007 - val_loss: 0.8960 - val_accuracy: 0.5140\n",
      "Epoch 22/200\n",
      "1400/1500 [===========================>..] - ETA: 4s - loss: 0.9127 - accuracy: 0.5021\n",
      "Epoch 00022: saving model to D:\\Project\\My_Code\\AlexNet\n"
     ]
    }
   ],
   "source": [
    "fitting=model.fit(X_train,y_train,epochs=200,validation_split=0.25,batch_size=100,steps_per_epoch=15,shuffle=True,use_multiprocessing=True,callbacks=[model_callback])"
   ]
  },
  {
   "cell_type": "markdown",
   "metadata": {},
   "source": [
    "# Loading pre-trained weights"
   ]
  },
  {
   "cell_type": "code",
   "execution_count": 16,
   "metadata": {},
   "outputs": [
    {
     "ename": "AttributeError",
     "evalue": "'dict' object has no attribute 'endswith'",
     "output_type": "error",
     "traceback": [
      "\u001b[1;31m---------------------------------------------------------------------------\u001b[0m",
      "\u001b[1;31mAttributeError\u001b[0m                            Traceback (most recent call last)",
      "\u001b[1;32m<ipython-input-16-58ec41adde04>\u001b[0m in \u001b[0;36m<module>\u001b[1;34m()\u001b[0m\n\u001b[1;32m----> 1\u001b[1;33m \u001b[0mmodel\u001b[0m\u001b[1;33m.\u001b[0m\u001b[0mload_weights\u001b[0m\u001b[1;33m(\u001b[0m\u001b[0mpretrained_weights\u001b[0m\u001b[1;33m)\u001b[0m\u001b[1;33m\u001b[0m\u001b[0m\n\u001b[0m",
      "\u001b[1;32m~\\Anaconda3\\lib\\site-packages\\tensorflow_core\\python\\keras\\engine\\training.py\u001b[0m in \u001b[0;36mload_weights\u001b[1;34m(self, filepath, by_name, skip_mismatch)\u001b[0m\n\u001b[0;32m    212\u001b[0m         raise ValueError('Load weights is not yet supported with TPUStrategy '\n\u001b[0;32m    213\u001b[0m                          'with steps_per_run greater than 1.')\n\u001b[1;32m--> 214\u001b[1;33m     \u001b[1;32mreturn\u001b[0m \u001b[0msuper\u001b[0m\u001b[1;33m(\u001b[0m\u001b[0mModel\u001b[0m\u001b[1;33m,\u001b[0m \u001b[0mself\u001b[0m\u001b[1;33m)\u001b[0m\u001b[1;33m.\u001b[0m\u001b[0mload_weights\u001b[0m\u001b[1;33m(\u001b[0m\u001b[0mfilepath\u001b[0m\u001b[1;33m,\u001b[0m \u001b[0mby_name\u001b[0m\u001b[1;33m,\u001b[0m \u001b[0mskip_mismatch\u001b[0m\u001b[1;33m)\u001b[0m\u001b[1;33m\u001b[0m\u001b[0m\n\u001b[0m\u001b[0;32m    215\u001b[0m \u001b[1;33m\u001b[0m\u001b[0m\n\u001b[0;32m    216\u001b[0m   \u001b[1;33m@\u001b[0m\u001b[0mtrackable\u001b[0m\u001b[1;33m.\u001b[0m\u001b[0mno_automatic_dependency_tracking\u001b[0m\u001b[1;33m\u001b[0m\u001b[0m\n",
      "\u001b[1;32m~\\Anaconda3\\lib\\site-packages\\tensorflow_core\\python\\keras\\engine\\network.py\u001b[0m in \u001b[0;36mload_weights\u001b[1;34m(self, filepath, by_name, skip_mismatch)\u001b[0m\n\u001b[0;32m   1208\u001b[0m           'True when by_name is True.')\n\u001b[0;32m   1209\u001b[0m \u001b[1;33m\u001b[0m\u001b[0m\n\u001b[1;32m-> 1210\u001b[1;33m     \u001b[1;32mif\u001b[0m \u001b[0m_is_hdf5_filepath\u001b[0m\u001b[1;33m(\u001b[0m\u001b[0mfilepath\u001b[0m\u001b[1;33m)\u001b[0m\u001b[1;33m:\u001b[0m\u001b[1;33m\u001b[0m\u001b[0m\n\u001b[0m\u001b[0;32m   1211\u001b[0m       \u001b[0msave_format\u001b[0m \u001b[1;33m=\u001b[0m \u001b[1;34m'h5'\u001b[0m\u001b[1;33m\u001b[0m\u001b[0m\n\u001b[0;32m   1212\u001b[0m     \u001b[1;32melse\u001b[0m\u001b[1;33m:\u001b[0m\u001b[1;33m\u001b[0m\u001b[0m\n",
      "\u001b[1;32m~\\Anaconda3\\lib\\site-packages\\tensorflow_core\\python\\keras\\engine\\network.py\u001b[0m in \u001b[0;36m_is_hdf5_filepath\u001b[1;34m(filepath)\u001b[0m\n\u001b[0;32m   1528\u001b[0m \u001b[1;33m\u001b[0m\u001b[0m\n\u001b[0;32m   1529\u001b[0m \u001b[1;32mdef\u001b[0m \u001b[0m_is_hdf5_filepath\u001b[0m\u001b[1;33m(\u001b[0m\u001b[0mfilepath\u001b[0m\u001b[1;33m)\u001b[0m\u001b[1;33m:\u001b[0m\u001b[1;33m\u001b[0m\u001b[0m\n\u001b[1;32m-> 1530\u001b[1;33m   return (filepath.endswith('.h5') or filepath.endswith('.keras') or\n\u001b[0m\u001b[0;32m   1531\u001b[0m           filepath.endswith('.hdf5'))\n\u001b[0;32m   1532\u001b[0m \u001b[1;33m\u001b[0m\u001b[0m\n",
      "\u001b[1;31mAttributeError\u001b[0m: 'dict' object has no attribute 'endswith'"
     ]
    }
   ],
   "source": [
    "model.load_weights(model_path)"
   ]
  },
  {
   "cell_type": "markdown",
   "metadata": {},
   "source": [
    "# Testing the model"
   ]
  },
  {
   "cell_type": "code",
   "execution_count": 13,
   "metadata": {},
   "outputs": [
    {
     "name": "stdout",
     "output_type": "stream",
     "text": [
      "2000/2000 [==============================] - 42s 21ms/sample - loss: 1.0484 - accuracy: 0.6015\n"
     ]
    },
    {
     "data": {
      "text/plain": [
       "[1.048373094201088, 0.6015]"
      ]
     },
     "execution_count": 13,
     "metadata": {},
     "output_type": "execute_result"
    }
   ],
   "source": [
    "model.evaluate(X_test,y_test,batch_size=100,use_multiprocessing=True)"
   ]
  },
  {
   "cell_type": "code",
   "execution_count": 13,
   "metadata": {},
   "outputs": [],
   "source": []
  },
  {
   "cell_type": "code",
   "execution_count": null,
   "metadata": {},
   "outputs": [],
   "source": []
  },
  {
   "cell_type": "markdown",
   "metadata": {},
   "source": [
    "# Plotting training and validation error"
   ]
  },
  {
   "cell_type": "code",
   "execution_count": 9,
   "metadata": {},
   "outputs": [],
   "source": [
    "from tensorflow.keras.optimizers import Adam\n",
    "epochs = 50\n",
    "learning_rate = 0.0005\n",
    "decay_rate = learning_rate / epochs\n",
    "opt = Adam(lr=learning_rate, beta_1=0.9, beta_2=0.999, epsilon=None, decay=decay_rate, amsgrad=False)\n",
    "model.compile(optimizer=opt,loss='sparse_categorical_crossentropy',metrics=['accuracy'])\n",
    "#model.compile(loss='sparse_categorical_crossentropy',optimizer='rmsprop',metrics=['accuracy'])"
   ]
  },
  {
   "cell_type": "code",
   "execution_count": 46,
   "metadata": {},
   "outputs": [
    {
     "data": {
      "image/png": "[encoded data removed]",
      "text/plain": [
       "<Figure size 432x288 with 1 Axes>"
      ]
     },
     "metadata": {
      "needs_background": "light"
     },
     "output_type": "display_data"
    },
    {
     "data": {
      "image/png": "[encoded data removed]",
      "text/plain": [
       "<Figure size 432x288 with 1 Axes>"
      ]
     },
     "metadata": {
      "needs_background": "light"
     },
     "output_type": "display_data"
    }
   ],
   "source": [
    "import matplotlib.pyplot as plt\n",
    "val_loss = new_fitting.history['val_loss']\n",
    "loss = new_fitting.history['loss']\n",
    "epochs = range(len(loss))\n",
    "plt.plot(epochs,loss)\n",
    "plt.title(\"Training Loss\")\n",
    "plt.show()\n",
    "plt.plot(epochs,val_loss,'r')\n",
    "plt.title(\"Validation Loss\")\n",
    "plt.show()"
   ]
  },
  {
   "cell_type": "code",
   "execution_count": null,
   "metadata": {},
   "outputs": [],
   "source": []
  }
 ],
 "metadata": {
  "kernelspec": {
   "display_name": "Python 3",
   "language": "python",
   "name": "python3"
  },
  "language_info": {
   "codemirror_mode": {
    "name": "ipython",
    "version": 3
   },
   "file_extension": ".py",
   "mimetype": "text/x-python",
   "name": "python",
   "nbconvert_exporter": "python",
   "pygments_lexer": "ipython3",
   "version": "3.7.0"
  }
 },
 "nbformat": 4,
 "nbformat_minor": 2
}
